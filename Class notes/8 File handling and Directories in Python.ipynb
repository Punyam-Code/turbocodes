{
 "cells": [
  {
   "cell_type": "markdown",
   "metadata": {},
   "source": [
    "File handling in Python\n",
    "--"
   ]
  },
  {
   "cell_type": "markdown",
   "metadata": {},
   "source": [
    "Python too supports file handling and allows users to handle files i.e., to read and write files, along with many other file handling options, to operate on files. \n",
    "\n",
    "The concept of file handling has stretched over various other languages, but the implementation is either complicated or lengthy, but alike other concepts of Python, this concept here is also easy and short. \n",
    "\n",
    "Python treats file differently as text or binary and this is important. \n",
    "\n",
    "Each line of code includes a sequence of characters and they form text file. Each line of a file is terminated with a special character, called the EOL or End of Line characters like comma {,} or newline character. \n",
    "\n",
    "It ends the current line and tells the interpreter a new one has begun.\n",
    "\n",
    "Since RAM is volatile, which loses its data when computer is turned off, we use files for future use of the data.\n",
    "\n",
    "Files are persistent because they run for a long time, they keep atleast some of the data in permanent storage and if they shut down and restart, they pick up where they left off."
   ]
  },
  {
   "cell_type": "code",
   "execution_count": 1,
   "metadata": {},
   "outputs": [],
   "source": [
    "import os"
   ]
  },
  {
   "cell_type": "code",
   "execution_count": null,
   "metadata": {},
   "outputs": [],
   "source": [
    "os.chmod"
   ]
  },
  {
   "cell_type": "code",
   "execution_count": null,
   "metadata": {},
   "outputs": [],
   "source": [
    "mode = read/write/read&write/append\n",
    "open(\"address\",mode)"
   ]
  },
  {
   "cell_type": "code",
   "execution_count": 17,
   "metadata": {},
   "outputs": [],
   "source": [
    "import os"
   ]
  },
  {
   "cell_type": "code",
   "execution_count": 21,
   "metadata": {},
   "outputs": [
    {
     "data": {
      "text/plain": [
       "['.ipynb_checkpoints',\n",
       " '10 Classes and Objects in Python.ipynb',\n",
       " '2 Datatypes, Operators and Looping.ipynb',\n",
       " '3 Functions.ipynb',\n",
       " '4 Strings.ipynb',\n",
       " '5 Lists Tuples.ipynb',\n",
       " '6 Dictionary, Random Module.ipynb',\n",
       " '7 Sets and Arrays in Python.ipynb',\n",
       " '8 File handling and Directories in Python.ipynb',\n",
       " '9 Exception Handling.ipynb',\n",
       " 'Add.py',\n",
       " 'aman.txt',\n",
       " 'bomojobrandindices.csv',\n",
       " 'Darshan.doc',\n",
       " 'Darshan.txt',\n",
       " 'DOHMH_Dog_Bite_Data.csv',\n",
       " 'gender_submission.csv',\n",
       " 'gran_turismo_gt6.csv',\n",
       " 'Mango.txt',\n",
       " 'Matplotlib and Seaborn.ipynb',\n",
       " 'Nocharm',\n",
       " 'Numpy.ipynb',\n",
       " 'pandas 2.ipynb',\n",
       " 'Pandas.ipynb',\n",
       " 'pandas_day1.ipynb',\n",
       " 'python day 1 and 2.ipynb',\n",
       " 'student_records.csv',\n",
       " 't1.txt',\n",
       " 'tested.csv',\n",
       " 'top_100_anime_movie.csv',\n",
       " 'train.csv',\n",
       " 'txt1.txt',\n",
       " 't_t.txt',\n",
       " 'Untitled.ipynb',\n",
       " 'Untitled1.ipynb',\n",
       " 'Untitled2.ipynb',\n",
       " 'zebra.txt']"
      ]
     },
     "execution_count": 21,
     "metadata": {},
     "output_type": "execute_result"
    }
   ],
   "source": [
    "os.listdir()"
   ]
  },
  {
   "cell_type": "code",
   "execution_count": 20,
   "metadata": {},
   "outputs": [],
   "source": [
    "file = open(\"Mango.txt\",'w')\n",
    "file.close()"
   ]
  },
  {
   "cell_type": "code",
   "execution_count": 69,
   "metadata": {},
   "outputs": [],
   "source": []
  },
  {
   "cell_type": "code",
   "execution_count": 72,
   "metadata": {},
   "outputs": [
    {
     "data": {
      "text/plain": [
       "['.ipynb_checkpoints',\n",
       " '1 Python Basics.ipynb',\n",
       " '10 Classes and Objects in Python.ipynb',\n",
       " '2 Datatypes, Operators and Looping.ipynb',\n",
       " '3 Functions.ipynb',\n",
       " '4 Strings.ipynb',\n",
       " '5 Lists Tuples.ipynb',\n",
       " '6 Dictionary, Random Module.ipynb',\n",
       " '7 Sets and Arrays in Python.ipynb',\n",
       " '8 File handling and Directories in Python.ipynb',\n",
       " '9 Exception Handling.ipynb',\n",
       " 'Add.py',\n",
       " 'aman.txt',\n",
       " 'bomojobrandindices.csv',\n",
       " 'Darshan.doc',\n",
       " 'Darshan.txt',\n",
       " 'gender_submission.csv',\n",
       " 'gran_turismo_gt6.csv',\n",
       " 'Matplotlib and Seaborn.ipynb',\n",
       " 'Numpy.ipynb',\n",
       " 'Pandas.ipynb',\n",
       " 'Pycharm',\n",
       " 'student_records.csv',\n",
       " 't1.txt',\n",
       " 'txt1.txt',\n",
       " 't_t.txt',\n",
       " 'Untitled.ipynb',\n",
       " 'zebra.txt']"
      ]
     },
     "execution_count": 72,
     "metadata": {},
     "output_type": "execute_result"
    }
   ],
   "source": [
    "os.listdir()"
   ]
  },
  {
   "cell_type": "code",
   "execution_count": 1,
   "metadata": {},
   "outputs": [],
   "source": [
    "# “ r “, for reading.\n",
    "# “ w “, for writing.\n",
    "# “ a “, for appending.\n",
    "# “ r+ “, for both reading and writing\n",
    "# Opening a file\n",
    "file = open(\"t1.txt\",'w')\n",
    "file.close()"
   ]
  },
  {
   "cell_type": "code",
   "execution_count": 62,
   "metadata": {},
   "outputs": [],
   "source": [
    "file = open('zebra.txt','w')\n",
    "# file.write('this is python session \\n')\n",
    "file.write('this is line 1\\n')\n",
    "file.write('this is line 2\\n')\n",
    "file.write('this is line 3\\n')\n",
    "file.close()"
   ]
  },
  {
   "cell_type": "code",
   "execution_count": 63,
   "metadata": {},
   "outputs": [],
   "source": [
    "file = open('zebra.txt','r')"
   ]
  },
  {
   "cell_type": "code",
   "execution_count": 64,
   "metadata": {},
   "outputs": [
    {
     "name": "stdout",
     "output_type": "stream",
     "text": [
      "this is line 1\n",
      "\n",
      "this is line 2\n",
      "\n",
      "this is line 3\n",
      "\n"
     ]
    }
   ],
   "source": [
    "for i in file:\n",
    "    print(i)\n",
    "file.close()"
   ]
  },
  {
   "cell_type": "code",
   "execution_count": 48,
   "metadata": {},
   "outputs": [],
   "source": [
    "file = open('zebra.txt','w')\n",
    "file.write('\\ntoday is satuarday \\n')\n",
    "file.close()"
   ]
  },
  {
   "cell_type": "code",
   "execution_count": null,
   "metadata": {},
   "outputs": [],
   "source": []
  },
  {
   "cell_type": "code",
   "execution_count": null,
   "metadata": {},
   "outputs": [],
   "source": []
  },
  {
   "cell_type": "code",
   "execution_count": null,
   "metadata": {},
   "outputs": [],
   "source": []
  },
  {
   "cell_type": "code",
   "execution_count": null,
   "metadata": {},
   "outputs": [],
   "source": []
  },
  {
   "cell_type": "code",
   "execution_count": 106,
   "metadata": {},
   "outputs": [],
   "source": [
    "f=open(\"t1.txt\",'w')\n",
    "f.write(\"Hello Mujib.\\n\")\n",
    "f.write(\"How is the training going on?\\n\")\n",
    "f.close()"
   ]
  },
  {
   "cell_type": "code",
   "execution_count": 50,
   "metadata": {},
   "outputs": [
    {
     "data": {
      "text/plain": [
       "'zebra.txt'"
      ]
     },
     "execution_count": 50,
     "metadata": {},
     "output_type": "execute_result"
    }
   ],
   "source": [
    "file.closed\n",
    "file.mode\n",
    "file.name"
   ]
  },
  {
   "cell_type": "code",
   "execution_count": null,
   "metadata": {},
   "outputs": [],
   "source": []
  },
  {
   "cell_type": "code",
   "execution_count": null,
   "metadata": {},
   "outputs": [],
   "source": []
  },
  {
   "cell_type": "code",
   "execution_count": null,
   "metadata": {},
   "outputs": [],
   "source": []
  },
  {
   "cell_type": "code",
   "execution_count": 107,
   "metadata": {},
   "outputs": [],
   "source": [
    "f = open('zebra.txt','w')\n",
    "for i in data:\n",
    "    f.write(i)\n",
    "f.close()"
   ]
  },
  {
   "cell_type": "code",
   "execution_count": 110,
   "metadata": {},
   "outputs": [
    {
     "name": "stdout",
     "output_type": "stream",
     "text": [
      "['this is line 1\\n', 'this is line 2\\n', 'this is line 3\\n', 'this is line3\\n']\n"
     ]
    }
   ],
   "source": [
    "f = open('zebra.txt','r')\n",
    "print(f.readlines())\n",
    "f.close()"
   ]
  },
  {
   "cell_type": "code",
   "execution_count": 106,
   "metadata": {},
   "outputs": [],
   "source": [
    "data.append('this is line3\\n')"
   ]
  },
  {
   "cell_type": "code",
   "execution_count": 130,
   "metadata": {},
   "outputs": [],
   "source": [
    "from array import array"
   ]
  },
  {
   "cell_type": "code",
   "execution_count": 131,
   "metadata": {},
   "outputs": [],
   "source": [
    "arr1=array('i', [2, 3, 4])\n",
    "arr2=array('f', [3.0, 4.0, 5.0])\n",
    "arr1 + arr2"
   ]
  },
  {
   "cell_type": "code",
   "execution_count": 141,
   "metadata": {},
   "outputs": [
    {
     "name": "stdout",
     "output_type": "stream",
     "text": [
      "3\n"
     ]
    }
   ],
   "source": [
    "arr = list(range(0,9))\n",
    "x = int(input())"
   ]
  },
  {
   "cell_type": "code",
   "execution_count": 142,
   "metadata": {},
   "outputs": [],
   "source": [
    "\n",
    "if x in arr:\n",
    "    arr.extend(arr[:3]*3)"
   ]
  },
  {
   "cell_type": "code",
   "execution_count": 144,
   "metadata": {},
   "outputs": [],
   "source": [
    "arr = array('i',arr)"
   ]
  },
  {
   "cell_type": "code",
   "execution_count": 145,
   "metadata": {},
   "outputs": [
    {
     "data": {
      "text/plain": [
       "array('i', [0, 1, 2, 3, 4, 5, 6, 7, 8, 0, 1, 2, 0, 1, 2, 0, 1, 2])"
      ]
     },
     "execution_count": 145,
     "metadata": {},
     "output_type": "execute_result"
    }
   ],
   "source": [
    "arr"
   ]
  },
  {
   "cell_type": "code",
   "execution_count": null,
   "metadata": {},
   "outputs": [],
   "source": [
    "while Condition:\n",
    "    "
   ]
  },
  {
   "cell_type": "code",
   "execution_count": null,
   "metadata": {},
   "outputs": [],
   "source": []
  },
  {
   "cell_type": "code",
   "execution_count": null,
   "metadata": {},
   "outputs": [],
   "source": []
  },
  {
   "cell_type": "code",
   "execution_count": null,
   "metadata": {},
   "outputs": [],
   "source": []
  },
  {
   "cell_type": "code",
   "execution_count": null,
   "metadata": {},
   "outputs": [],
   "source": []
  },
  {
   "cell_type": "raw",
   "metadata": {},
   "source": [
    "File Object Attributes\n",
    "\n",
    "file.closed - Returns True if the file is closed, false otherwise\n",
    "file.mode - Returns access mode with which the file was opened\n",
    "file.name - Returns name of the file"
   ]
  },
  {
   "cell_type": "code",
   "execution_count": 7,
   "metadata": {},
   "outputs": [
    {
     "name": "stdout",
     "output_type": "stream",
     "text": [
      "False\n",
      "w\n",
      "t1.txt\n",
      "True\n"
     ]
    }
   ],
   "source": [
    "f=open(\"t1.txt\",'w')\n",
    "print(f.closed)\n",
    "print(f.mode)\n",
    "print(f.name)\n",
    "f.write(\"Hello Borad Infinity.\\n\")\n",
    "f.write(\"How is the training going on?\\n\")\n",
    "f.close()\n",
    "print(f.closed)"
   ]
  },
  {
   "cell_type": "code",
   "execution_count": 114,
   "metadata": {},
   "outputs": [
    {
     "name": "stdout",
     "output_type": "stream",
     "text": [
      "3\n",
      "Data saved to file successfully.\n",
      "True\n"
     ]
    }
   ],
   "source": [
    "a=1\n",
    "b=2\n",
    "c=a+b\n",
    "print(c)\n",
    "str1=\"a=\"+str(a)+\"\\n\"\n",
    "str2=\"b=\"+str(b)+\"\\n\"\n",
    "str3=\"c=\"+str(c)+\"\\n\"\n",
    "f=open(\"t1.txt\",'w')\n",
    "f.write(str1)\n",
    "f.write(str2)\n",
    "f.write(str3)\n",
    "f.close()\n",
    "print(\"Data saved to file successfully.\")\n",
    "print(f.closed)"
   ]
  },
  {
   "cell_type": "code",
   "execution_count": null,
   "metadata": {},
   "outputs": [],
   "source": []
  },
  {
   "cell_type": "code",
   "execution_count": 115,
   "metadata": {},
   "outputs": [
    {
     "name": "stdout",
     "output_type": "stream",
     "text": [
      "a=1\n",
      "b=2\n",
      "c=3\n",
      "\n"
     ]
    }
   ],
   "source": [
    "# File Methods\n",
    "f=open(\"t1.txt\",'r')\n",
    "print(f.read())\n",
    "f.close()"
   ]
  },
  {
   "cell_type": "code",
   "execution_count": 76,
   "metadata": {},
   "outputs": [
    {
     "name": "stdout",
     "output_type": "stream",
     "text": [
      "this is line 1\n",
      "this is line 2\n",
      "\n"
     ]
    }
   ],
   "source": [
    "f=open(\"zebra.txt\",'r')\n",
    "print(f.read(30))\n",
    "f.close()"
   ]
  },
  {
   "cell_type": "code",
   "execution_count": 20,
   "metadata": {},
   "outputs": [
    {
     "name": "stdout",
     "output_type": "stream",
     "text": [
      "a=1\n",
      "\n",
      "b=2\n",
      "\n",
      "c=3\n",
      "\n"
     ]
    }
   ],
   "source": [
    "f=open(\"t1.txt\",'r')\n",
    "for i in f.readlines():\n",
    "    print(i)\n",
    "f.close()"
   ]
  },
  {
   "cell_type": "code",
   "execution_count": 78,
   "metadata": {},
   "outputs": [
    {
     "name": "stdout",
     "output_type": "stream",
     "text": [
      "['this is line 1\\n', 'this is line 2\\n', 'this is line 3\\n']\n"
     ]
    }
   ],
   "source": [
    "f=open(\"zebra.txt\",'r')\n",
    "print(f.readlines())\n",
    "f.close()"
   ]
  },
  {
   "cell_type": "code",
   "execution_count": 121,
   "metadata": {},
   "outputs": [
    {
     "name": "stdout",
     "output_type": "stream",
     "text": [
      "a=1\n",
      "\n",
      "b=2\n",
      "\n",
      "c=3\n",
      "\n"
     ]
    }
   ],
   "source": [
    "f=open(\"t1.txt\",'r')\n",
    "for i in f.readlines():\n",
    "    print(i)\n",
    "f.close()"
   ]
  },
  {
   "cell_type": "code",
   "execution_count": 111,
   "metadata": {},
   "outputs": [],
   "source": [
    "f=open(\"zebra.py\",'w')\n",
    "f.write('print(\"hello_world\")')\n",
    "f.close()"
   ]
  },
  {
   "cell_type": "code",
   "execution_count": 124,
   "metadata": {},
   "outputs": [
    {
     "name": "stdout",
     "output_type": "stream",
     "text": [
      "a=1\n",
      "\n",
      "5\n",
      "b=\n",
      "7\n"
     ]
    }
   ],
   "source": [
    "f=open(\"t1.txt\",'r')\n",
    "print(f.read(4))\n",
    "print(f.tell())\n",
    "print(f.read(2))\n",
    "print(f.tell())\n",
    "f.close()"
   ]
  },
  {
   "cell_type": "code",
   "execution_count": null,
   "metadata": {
    "scrolled": true
   },
   "outputs": [],
   "source": [
    "f=open(\"t1.txt\",'r')\n",
    "print(f.readline())\n",
    "print(f.tell())\n",
    "print(f.readline())\n",
    "print(f.tell())\n",
    "f.close()"
   ]
  },
  {
   "cell_type": "code",
   "execution_count": 26,
   "metadata": {},
   "outputs": [],
   "source": [
    "f=open(\"t3.txt\",'w')\n",
    "f.write(\"Hello Dr. Darshan.\\n\")\n",
    "f.write(\"How is the training going on?\\n\")\n",
    "f.close()"
   ]
  },
  {
   "cell_type": "code",
   "execution_count": 44,
   "metadata": {},
   "outputs": [],
   "source": [
    "f=open(\"Pycharm/t3.txt\",'a') # append\n",
    "f.write(\"Python is a Programming Language\\n\")\n",
    "f.write(\"We are loving it\\n\")\n",
    "f.close()"
   ]
  },
  {
   "cell_type": "code",
   "execution_count": 45,
   "metadata": {
    "scrolled": true
   },
   "outputs": [
    {
     "data": {
      "text/plain": [
       "['Python is a Programming Language\\n', 'We are loving it\\n']"
      ]
     },
     "execution_count": 45,
     "metadata": {},
     "output_type": "execute_result"
    }
   ],
   "source": [
    "f = open('Pycharm/t3.txt')\n",
    "f.readlines()"
   ]
  },
  {
   "cell_type": "code",
   "execution_count": 88,
   "metadata": {},
   "outputs": [],
   "source": [
    "import sys"
   ]
  },
  {
   "cell_type": "code",
   "execution_count": 90,
   "metadata": {},
   "outputs": [
    {
     "name": "stdout",
     "output_type": "stream",
     "text": [
      "File renamed successfully\n"
     ]
    }
   ],
   "source": [
    "os.rename(\"t1.txt\",\"Mango2.doc\")\n",
    "print(\"File renamed successfully\")"
   ]
  },
  {
   "cell_type": "code",
   "execution_count": 95,
   "metadata": {},
   "outputs": [],
   "source": [
    "os.mkdir('New_folder')"
   ]
  },
  {
   "cell_type": "code",
   "execution_count": 97,
   "metadata": {},
   "outputs": [
    {
     "data": {
      "text/plain": [
       "['.ipynb_checkpoints',\n",
       " '10 Classes and Objects in Python.ipynb',\n",
       " '2 Datatypes, Operators and Looping.ipynb',\n",
       " '3 Functions.ipynb',\n",
       " '4 Strings.ipynb',\n",
       " '5 Lists Tuples.ipynb',\n",
       " '6 Dictionary, Random Module.ipynb',\n",
       " '7 Sets and Arrays in Python.ipynb',\n",
       " '8 File handling and Directories in Python.ipynb',\n",
       " '9 Exception Handling.ipynb',\n",
       " 'Add.py',\n",
       " 'aman.txt',\n",
       " 'bomojobrandindices.csv',\n",
       " 'Darshan.doc',\n",
       " 'Darshan.txt',\n",
       " 'DOHMH_Dog_Bite_Data.csv',\n",
       " 'gender_submission.csv',\n",
       " 'gran_turismo_gt6.csv',\n",
       " 'Mango.txt',\n",
       " 'Mango2.doc',\n",
       " 'Matplotlib and Seaborn.ipynb',\n",
       " 'New_folder',\n",
       " 'Nocharm',\n",
       " 'Numpy.ipynb',\n",
       " 'pandas 2.ipynb',\n",
       " 'Pandas.ipynb',\n",
       " 'pandas_day1.ipynb',\n",
       " 'python day 1 and 2.ipynb',\n",
       " 'student_records.csv',\n",
       " 'tested.csv',\n",
       " 'top_100_anime_movie.csv',\n",
       " 'train.csv',\n",
       " 'txt1.txt',\n",
       " 't_t.txt',\n",
       " 'Untitled.ipynb',\n",
       " 'Untitled1.ipynb',\n",
       " 'Untitled2.ipynb',\n",
       " 'zebra.txt']"
      ]
     },
     "execution_count": 97,
     "metadata": {},
     "output_type": "execute_result"
    }
   ],
   "source": [
    "os."
   ]
  },
  {
   "cell_type": "markdown",
   "metadata": {},
   "source": [
    "Directories/Folders\n",
    "--"
   ]
  },
  {
   "cell_type": "code",
   "execution_count": 4,
   "metadata": {},
   "outputs": [],
   "source": [
    "import os"
   ]
  },
  {
   "cell_type": "code",
   "execution_count": 6,
   "metadata": {},
   "outputs": [
    {
     "name": "stdout",
     "output_type": "stream",
     "text": [
      "Directory created successfully\n"
     ]
    }
   ],
   "source": [
    "os.mkdir(\"Pycharm2\")\n",
    "print(\"Directory created successfully\")"
   ]
  },
  {
   "cell_type": "code",
   "execution_count": 25,
   "metadata": {},
   "outputs": [],
   "source": [
    "os.getcwd()\n",
    "os.chdir('C:/Users/91790/Downloads/ashu/ashu/Python Class')"
   ]
  },
  {
   "cell_type": "code",
   "execution_count": 9,
   "metadata": {},
   "outputs": [
    {
     "data": {
      "text/plain": [
       "'C:\\\\Users\\\\91790\\\\Downloads\\\\ashu'"
      ]
     },
     "execution_count": 9,
     "metadata": {},
     "output_type": "execute_result"
    }
   ],
   "source": [
    "os.getcwd()"
   ]
  },
  {
   "cell_type": "code",
   "execution_count": 19,
   "metadata": {},
   "outputs": [
    {
     "name": "stdout",
     "output_type": "stream",
     "text": [
      "Hello Dr. Darshan.\n",
      "How is the training going on?\n",
      "Python is a Programming Language\n",
      "We are loving it\n",
      "\n"
     ]
    }
   ],
   "source": [
    "file = open('Darshan.txt')\n",
    "print(file.read())\n",
    "file.close()"
   ]
  },
  {
   "cell_type": "code",
   "execution_count": 100,
   "metadata": {},
   "outputs": [
    {
     "data": {
      "text/plain": [
       "['.ipynb_checkpoints',\n",
       " '10 Classes and Objects in Python.ipynb',\n",
       " '2 Datatypes, Operators and Looping.ipynb',\n",
       " '3 Functions.ipynb',\n",
       " '4 Strings.ipynb',\n",
       " '5 Lists Tuples.ipynb',\n",
       " '6 Dictionary, Random Module.ipynb',\n",
       " '7 Sets and Arrays in Python.ipynb',\n",
       " '8 File handling and Directories in Python.ipynb',\n",
       " '9 Exception Handling.ipynb',\n",
       " 'Add.py',\n",
       " 'aman.txt',\n",
       " 'bomojobrandindices.csv',\n",
       " 'Darshan.doc',\n",
       " 'Darshan.txt',\n",
       " 'DOHMH_Dog_Bite_Data.csv',\n",
       " 'gender_submission.csv',\n",
       " 'gran_turismo_gt6.csv',\n",
       " 'Mango.txt',\n",
       " 'Mango2.doc',\n",
       " 'Matplotlib and Seaborn.ipynb',\n",
       " 'New_folder',\n",
       " 'Nocharm',\n",
       " 'Numpy.ipynb',\n",
       " 'pandas 2.ipynb',\n",
       " 'Pandas.ipynb',\n",
       " 'pandas_day1.ipynb',\n",
       " 'python day 1 and 2.ipynb',\n",
       " 'student_records.csv',\n",
       " 'tested.csv',\n",
       " 'top_100_anime_movie.csv',\n",
       " 'train.csv',\n",
       " 'txt1.txt',\n",
       " 't_t.txt',\n",
       " 'Untitled.ipynb',\n",
       " 'Untitled1.ipynb',\n",
       " 'Untitled2.ipynb',\n",
       " 'zebra.txt']"
      ]
     },
     "execution_count": 100,
     "metadata": {},
     "output_type": "execute_result"
    }
   ],
   "source": [
    "os.listdir()"
   ]
  },
  {
   "cell_type": "code",
   "execution_count": 101,
   "metadata": {},
   "outputs": [
    {
     "name": "stdout",
     "output_type": "stream",
     "text": [
      "Directory removed successfully\n"
     ]
    }
   ],
   "source": [
    "os.rmdir(\"New_folder\")\n",
    "print(\"Directory removed successfully\")"
   ]
  },
  {
   "cell_type": "code",
   "execution_count": 102,
   "metadata": {},
   "outputs": [
    {
     "name": "stdout",
     "output_type": "stream",
     "text": [
      "Directory renamed successfully\n"
     ]
    }
   ],
   "source": [
    "os.rename(\"Nocharm\",\"Yescharm\")\n",
    "print(\"Directory renamed successfully\")"
   ]
  },
  {
   "cell_type": "code",
   "execution_count": 103,
   "metadata": {},
   "outputs": [
    {
     "data": {
      "text/plain": [
       "['.ipynb_checkpoints',\n",
       " '10 Classes and Objects in Python.ipynb',\n",
       " '2 Datatypes, Operators and Looping.ipynb',\n",
       " '3 Functions.ipynb',\n",
       " '4 Strings.ipynb',\n",
       " '5 Lists Tuples.ipynb',\n",
       " '6 Dictionary, Random Module.ipynb',\n",
       " '7 Sets and Arrays in Python.ipynb',\n",
       " '8 File handling and Directories in Python.ipynb',\n",
       " '9 Exception Handling.ipynb',\n",
       " 'Add.py',\n",
       " 'aman.txt',\n",
       " 'bomojobrandindices.csv',\n",
       " 'Darshan.doc',\n",
       " 'Darshan.txt',\n",
       " 'DOHMH_Dog_Bite_Data.csv',\n",
       " 'gender_submission.csv',\n",
       " 'gran_turismo_gt6.csv',\n",
       " 'Mango.txt',\n",
       " 'Mango2.doc',\n",
       " 'Matplotlib and Seaborn.ipynb',\n",
       " 'Numpy.ipynb',\n",
       " 'pandas 2.ipynb',\n",
       " 'Pandas.ipynb',\n",
       " 'pandas_day1.ipynb',\n",
       " 'python day 1 and 2.ipynb',\n",
       " 'student_records.csv',\n",
       " 'tested.csv',\n",
       " 'top_100_anime_movie.csv',\n",
       " 'train.csv',\n",
       " 'txt1.txt',\n",
       " 't_t.txt',\n",
       " 'Untitled.ipynb',\n",
       " 'Untitled1.ipynb',\n",
       " 'Untitled2.ipynb',\n",
       " 'Yescharm',\n",
       " 'zebra.txt']"
      ]
     },
     "execution_count": 103,
     "metadata": {},
     "output_type": "execute_result"
    }
   ],
   "source": [
    "os.listdir()"
   ]
  },
  {
   "cell_type": "code",
   "execution_count": null,
   "metadata": {},
   "outputs": [],
   "source": [
    "def read_file(address):\n",
    "    file = open(address)\n",
    "    data = []\n",
    "    for i in file.readlines():\n",
    "        data.append(i)\n",
    "    return data"
   ]
  },
  {
   "cell_type": "code",
   "execution_count": 3,
   "metadata": {},
   "outputs": [
    {
     "name": "stdout",
     "output_type": "stream",
     "text": [
      "(1, 3)\n",
      "(2, 4)\n",
      "(3, 5)\n",
      "(34, 6)\n"
     ]
    }
   ],
   "source": [
    "lst = [1,2,3,34]\n",
    "lst2 = [3,4,5,6]\n",
    "\n",
    "\n",
    "for i in zip(lst,lst2):\n",
    "    print(i)"
   ]
  },
  {
   "cell_type": "code",
   "execution_count": null,
   "metadata": {},
   "outputs": [],
   "source": [
    "while condition:\n",
    "    statements\n",
    "    \n",
    "    condition change"
   ]
  },
  {
   "cell_type": "code",
   "execution_count": 39,
   "metadata": {},
   "outputs": [
    {
     "data": {
      "text/plain": [
       "False"
      ]
     },
     "execution_count": 39,
     "metadata": {},
     "output_type": "execute_result"
    }
   ],
   "source": [
    "107%2 == 0"
   ]
  },
  {
   "cell_type": "code",
   "execution_count": 32,
   "metadata": {},
   "outputs": [
    {
     "name": "stdout",
     "output_type": "stream",
     "text": [
      "5\n",
      "False\n",
      "6\n",
      "True\n"
     ]
    }
   ],
   "source": [
    "n=2\n",
    "while(n>0):\n",
    "    num = int(input())\n",
    "    print(num%2==0)\n",
    "    n = n-1"
   ]
  },
  {
   "cell_type": "code",
   "execution_count": null,
   "metadata": {},
   "outputs": [],
   "source": [
    "[0,1,2,3,4,5,6,7......44]"
   ]
  },
  {
   "cell_type": "code",
   "execution_count": 41,
   "metadata": {},
   "outputs": [
    {
     "data": {
      "text/plain": [
       "False"
      ]
     },
     "execution_count": 41,
     "metadata": {},
     "output_type": "execute_result"
    }
   ],
   "source": [
    "8 in [1,3,5,6]"
   ]
  },
  {
   "cell_type": "code",
   "execution_count": 45,
   "metadata": {},
   "outputs": [],
   "source": [
    "fruits = [1,2,3]"
   ]
  },
  {
   "cell_type": "code",
   "execution_count": 48,
   "metadata": {},
   "outputs": [
    {
     "name": "stdout",
     "output_type": "stream",
     "text": [
      "new age\n",
      "new age\n",
      "new age\n",
      "new age\n",
      "new age\n",
      "new age\n",
      "new age\n",
      "new age\n",
      "new age\n",
      "new age\n"
     ]
    }
   ],
   "source": [
    "for i in range(0,10):\n",
    "    print('new age')"
   ]
  },
  {
   "cell_type": "code",
   "execution_count": null,
   "metadata": {},
   "outputs": [],
   "source": [
    "[]\n",
    "{a:b}\n",
    "()"
   ]
  },
  {
   "cell_type": "code",
   "execution_count": 47,
   "metadata": {},
   "outputs": [
    {
     "data": {
      "text/plain": [
       "[0, 1, 2, 3, 4, 5, 6, 7, 8, 9]"
      ]
     },
     "execution_count": 47,
     "metadata": {},
     "output_type": "execute_result"
    }
   ],
   "source": [
    "list(range(0,10))"
   ]
  },
  {
   "cell_type": "code",
   "execution_count": null,
   "metadata": {},
   "outputs": [],
   "source": [
    "dictionaries:\n",
    "    {keys:values}"
   ]
  },
  {
   "cell_type": "code",
   "execution_count": 49,
   "metadata": {},
   "outputs": [],
   "source": [
    "a_dict = {\"name\": \"Aman\",\"age\":22,\"profession\":'student'}"
   ]
  },
  {
   "cell_type": "code",
   "execution_count": 54,
   "metadata": {},
   "outputs": [
    {
     "data": {
      "text/plain": [
       "dict_values(['Aman', 22, 'student'])"
      ]
     },
     "execution_count": 54,
     "metadata": {},
     "output_type": "execute_result"
    }
   ],
   "source": [
    "a_dict.values()"
   ]
  },
  {
   "cell_type": "code",
   "execution_count": null,
   "metadata": {},
   "outputs": [],
   "source": []
  },
  {
   "cell_type": "code",
   "execution_count": null,
   "metadata": {},
   "outputs": [],
   "source": []
  },
  {
   "cell_type": "code",
   "execution_count": null,
   "metadata": {},
   "outputs": [],
   "source": []
  },
  {
   "cell_type": "code",
   "execution_count": null,
   "metadata": {},
   "outputs": [],
   "source": []
  },
  {
   "cell_type": "code",
   "execution_count": null,
   "metadata": {},
   "outputs": [],
   "source": []
  },
  {
   "cell_type": "code",
   "execution_count": null,
   "metadata": {},
   "outputs": [],
   "source": []
  },
  {
   "cell_type": "code",
   "execution_count": null,
   "metadata": {},
   "outputs": [],
   "source": []
  },
  {
   "cell_type": "code",
   "execution_count": null,
   "metadata": {},
   "outputs": [],
   "source": []
  },
  {
   "cell_type": "code",
   "execution_count": null,
   "metadata": {},
   "outputs": [],
   "source": []
  },
  {
   "cell_type": "code",
   "execution_count": null,
   "metadata": {},
   "outputs": [],
   "source": []
  },
  {
   "cell_type": "code",
   "execution_count": null,
   "metadata": {},
   "outputs": [],
   "source": []
  },
  {
   "cell_type": "code",
   "execution_count": null,
   "metadata": {},
   "outputs": [],
   "source": []
  },
  {
   "cell_type": "code",
   "execution_count": null,
   "metadata": {},
   "outputs": [],
   "source": []
  }
 ],
 "metadata": {
  "kernelspec": {
   "display_name": "Python 3 (ipykernel)",
   "language": "python",
   "name": "python3"
  },
  "language_info": {
   "codemirror_mode": {
    "name": "ipython",
    "version": 3
   },
   "file_extension": ".py",
   "mimetype": "text/x-python",
   "name": "python",
   "nbconvert_exporter": "python",
   "pygments_lexer": "ipython3",
   "version": "3.10.7"
  },
  "toc": {
   "base_numbering": 1,
   "nav_menu": {},
   "number_sections": true,
   "sideBar": true,
   "skip_h1_title": false,
   "title_cell": "Table of Contents",
   "title_sidebar": "Contents",
   "toc_cell": false,
   "toc_position": {},
   "toc_section_display": true,
   "toc_window_display": false
  }
 },
 "nbformat": 4,
 "nbformat_minor": 2
}
