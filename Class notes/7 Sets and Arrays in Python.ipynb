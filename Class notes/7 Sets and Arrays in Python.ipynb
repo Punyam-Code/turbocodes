{
 "cells": [
  {
   "cell_type": "markdown",
   "metadata": {},
   "source": [
    "A set is a collection which is unordered and unindexed. \n",
    "--\n",
    "\n",
    "In Python sets are written with curly brackets.\n",
    "--"
   ]
  },
  {
   "cell_type": "code",
   "execution_count": null,
   "metadata": {},
   "outputs": [],
   "source": [
    "s = {1,2,\"Ingle\",3,\"Darshan\"}\n",
    "print(s)"
   ]
  },
  {
   "cell_type": "code",
   "execution_count": 2,
   "metadata": {
    "scrolled": true
   },
   "outputs": [
    {
     "ename": "TypeError",
     "evalue": "'set' object is not subscriptable",
     "output_type": "error",
     "traceback": [
      "\u001b[1;31m---------------------------------------------------------------------------\u001b[0m",
      "\u001b[1;31mTypeError\u001b[0m                                 Traceback (most recent call last)",
      "Cell \u001b[1;32mIn [2], line 3\u001b[0m\n\u001b[0;32m      1\u001b[0m s \u001b[38;5;241m=\u001b[39m {\u001b[38;5;124m\"\u001b[39m\u001b[38;5;124mapple\u001b[39m\u001b[38;5;124m\"\u001b[39m, \u001b[38;5;124m\"\u001b[39m\u001b[38;5;124mbanana\u001b[39m\u001b[38;5;124m\"\u001b[39m, \u001b[38;5;124m\"\u001b[39m\u001b[38;5;124mcherry\u001b[39m\u001b[38;5;124m\"\u001b[39m}\n\u001b[0;32m      2\u001b[0m s\n\u001b[1;32m----> 3\u001b[0m \u001b[38;5;28mprint\u001b[39m(s[\u001b[38;5;241m0\u001b[39m])\n",
      "\u001b[1;31mTypeError\u001b[0m: 'set' object is not subscriptable"
     ]
    }
   ],
   "source": [
    "s = {\"apple\", \"banana\", \"cherry\"}\n",
    "s\n",
    "print(s[0])"
   ]
  },
  {
   "cell_type": "raw",
   "metadata": {},
   "source": [
    "You cannot access items in a set by referring to an index, since sets are unordered the items has no index.\n",
    "\n",
    "But you can loop through the set items using a for loop, or ask if a specified value is present in a set, by using the in keyword."
   ]
  },
  {
   "cell_type": "code",
   "execution_count": 3,
   "metadata": {},
   "outputs": [
    {
     "name": "stdout",
     "output_type": "stream",
     "text": [
      "cherry\n",
      "banana\n",
      "apple\n"
     ]
    }
   ],
   "source": [
    "thisset = {\"apple\", \"banana\", \"cherry\"}\n",
    "\n",
    "for x in thisset:\n",
    "    print(x)"
   ]
  },
  {
   "cell_type": "code",
   "execution_count": 4,
   "metadata": {},
   "outputs": [],
   "source": [
    "a = [1,2,3,4,3,3,4,34,245,3,434,6,3]"
   ]
  },
  {
   "cell_type": "code",
   "execution_count": 6,
   "metadata": {},
   "outputs": [
    {
     "data": {
      "text/plain": [
       "[1, 2, 3, 4, 34, 6, 434, 245]"
      ]
     },
     "execution_count": 6,
     "metadata": {},
     "output_type": "execute_result"
    }
   ],
   "source": [
    "list(set(a))"
   ]
  },
  {
   "cell_type": "code",
   "execution_count": 8,
   "metadata": {},
   "outputs": [
    {
     "data": {
      "text/plain": [
       "False"
      ]
     },
     "execution_count": 8,
     "metadata": {},
     "output_type": "execute_result"
    }
   ],
   "source": [
    "item in container"
   ]
  },
  {
   "cell_type": "code",
   "execution_count": 19,
   "metadata": {},
   "outputs": [],
   "source": [
    "thisset = {\"apple\", \"banana\", \"cherry\"}"
   ]
  },
  {
   "cell_type": "code",
   "execution_count": 20,
   "metadata": {},
   "outputs": [],
   "source": [
    "thisset.update(['orange','pineapple','guavava'])"
   ]
  },
  {
   "cell_type": "code",
   "execution_count": 14,
   "metadata": {},
   "outputs": [],
   "source": [
    "thisset.remove('orange')"
   ]
  },
  {
   "cell_type": "code",
   "execution_count": 15,
   "metadata": {},
   "outputs": [
    {
     "data": {
      "text/plain": [
       "{'apple', 'banana', 'cherry', 'guavava', 'pineapple'}"
      ]
     },
     "execution_count": 15,
     "metadata": {},
     "output_type": "execute_result"
    }
   ],
   "source": [
    "thisset"
   ]
  },
  {
   "cell_type": "code",
   "execution_count": 21,
   "metadata": {},
   "outputs": [],
   "source": [
    "thatset = {'carrot','cauliflower','ladyfinger','banana'}"
   ]
  },
  {
   "cell_type": "code",
   "execution_count": 24,
   "metadata": {},
   "outputs": [
    {
     "data": {
      "text/plain": [
       "{'banana'}"
      ]
     },
     "execution_count": 24,
     "metadata": {},
     "output_type": "execute_result"
    }
   ],
   "source": [
    "thisset & thatset"
   ]
  },
  {
   "cell_type": "code",
   "execution_count": 27,
   "metadata": {},
   "outputs": [
    {
     "data": {
      "text/plain": [
       "{'apple', 'cherry', 'guavava', 'orange', 'pineapple'}"
      ]
     },
     "execution_count": 27,
     "metadata": {},
     "output_type": "execute_result"
    }
   ],
   "source": [
    "thisset.difference(thatset)"
   ]
  },
  {
   "cell_type": "code",
   "execution_count": null,
   "metadata": {},
   "outputs": [],
   "source": [
    "list({1,2,3,3,4,5,5})"
   ]
  },
  {
   "cell_type": "code",
   "execution_count": null,
   "metadata": {},
   "outputs": [],
   "source": [
    "# Check if \"banana\" is present in the set\n",
    "thisset = {\"apple\", \"banana\", \"cherry\"}\n",
    "\n",
    "print(\"banana\" in thisset)\n",
    "print(\"orange\" in thisset)"
   ]
  },
  {
   "cell_type": "code",
   "execution_count": null,
   "metadata": {},
   "outputs": [],
   "source": [
    "for i in thisset:\n",
    "    if i == 'apple':\n",
    "        del i"
   ]
  },
  {
   "cell_type": "code",
   "execution_count": null,
   "metadata": {},
   "outputs": [],
   "source": [
    "thisset"
   ]
  },
  {
   "cell_type": "code",
   "execution_count": null,
   "metadata": {},
   "outputs": [],
   "source": [
    "# Once a set is created, you cannot change its items, but you can add new items.\n",
    "\n",
    "# Add Items\n",
    "# To add one item to a set use the add() method.\n",
    "\n",
    "# To add more than one item to a set use the update() method.\n",
    "\n",
    "thisset = {\"apple\", \"banana\", \"cherry\"}\n",
    "\n",
    "thisset.add(\"orange\")\n",
    "\n",
    "print(thisset)"
   ]
  },
  {
   "cell_type": "code",
   "execution_count": null,
   "metadata": {},
   "outputs": [],
   "source": [
    "# Add multiple items to a set, using the update() method:\n",
    "thisset = {\"apple\", \"banana\", \"cherry\"}\n",
    "\n",
    "thisset.update([\"orange\", \"mango\", \"grapes\"])\n",
    "\n",
    "print(thisset)"
   ]
  },
  {
   "cell_type": "code",
   "execution_count": null,
   "metadata": {},
   "outputs": [],
   "source": [
    "# Get the number of items in a set:\n",
    "thisset = {\"apple\", \"banana\", \"cherry\"}\n",
    "\n",
    "print(len(thisset))"
   ]
  },
  {
   "cell_type": "code",
   "execution_count": null,
   "metadata": {},
   "outputs": [],
   "source": [
    "# Remove \"banana\" by using the remove() method:\n",
    "thisset = {\"apple\", \"banana\", \"cherry\"}\n",
    "\n",
    "thisset.remove(\"banana\")\n",
    "\n",
    "print(thisset)"
   ]
  },
  {
   "cell_type": "code",
   "execution_count": null,
   "metadata": {},
   "outputs": [],
   "source": [
    "thisset.replace('apple','cake')"
   ]
  },
  {
   "cell_type": "markdown",
   "metadata": {},
   "source": [
    "Join Two Sets\n",
    "--\n",
    "There are several ways to join two or more sets in Python.\n",
    "\n",
    "You can use the union() method that returns a new set containing all items from both sets, or the update() method that inserts all the items from one set into another:"
   ]
  },
  {
   "cell_type": "code",
   "execution_count": null,
   "metadata": {},
   "outputs": [],
   "source": [
    "# The union() method returns a new set with all items from both sets:\n",
    "set1 = {\"a\", \"b\" , \"c\",2}\n",
    "set2 = {1, 2, 3}\n",
    "\n",
    "set3 = set1.union(set2)\n",
    "print(set3)"
   ]
  },
  {
   "cell_type": "code",
   "execution_count": null,
   "metadata": {},
   "outputs": [],
   "source": [
    "# The update() method inserts the items in set2 into set1:\n",
    "set1 = {\"a\", \"b\" , \"c\"}\n",
    "set2 = {1, 2, 3}\n",
    "\n",
    "set1.update(set2)\n",
    "print(set1)\n",
    "\n",
    "# Note: Both union() and update() will exclude any duplicate items."
   ]
  },
  {
   "cell_type": "code",
   "execution_count": null,
   "metadata": {},
   "outputs": [],
   "source": [
    "set1 = {\"a\", \"b\" , \"c\"}\n",
    "set2 = {1, 2, 3}\n",
    "set1|set2"
   ]
  },
  {
   "cell_type": "code",
   "execution_count": null,
   "metadata": {},
   "outputs": [],
   "source": [
    "set1 = {\"a\", \"b\" , \"c\"}\n",
    "set2 = {\"a\", 2, 3}\n",
    "set1&set2 # intersection"
   ]
  },
  {
   "cell_type": "code",
   "execution_count": null,
   "metadata": {},
   "outputs": [],
   "source": [
    "x = {\"apple\", \"banana\", \"cherry\"}\n",
    "y = {\"google\", \"microsoft\", \"apple\"}\n",
    "\n",
    "z = y.difference(x)\n",
    "\n",
    "print(z)"
   ]
  },
  {
   "cell_type": "code",
   "execution_count": null,
   "metadata": {},
   "outputs": [],
   "source": [
    "x = {\"apple\", \"banana\", \"cherry\"}\n",
    "y = {\"google\", \"microsoft\", \"apple\"}\n",
    "\n",
    "z = y-x\n",
    "\n",
    "print(z)"
   ]
  },
  {
   "cell_type": "code",
   "execution_count": null,
   "metadata": {},
   "outputs": [],
   "source": [
    "x = {\"apple\", \"banana\", \"cherry\"}\n",
    "y = {\"google\", \"microsoft\", \"apple\"}\n",
    "\n",
    "z = y+x\n",
    "\n",
    "print(z)"
   ]
  },
  {
   "cell_type": "code",
   "execution_count": 31,
   "metadata": {},
   "outputs": [],
   "source": [
    "A = set()"
   ]
  },
  {
   "cell_type": "code",
   "execution_count": 32,
   "metadata": {},
   "outputs": [
    {
     "data": {
      "text/plain": [
       "set"
      ]
     },
     "execution_count": 32,
     "metadata": {},
     "output_type": "execute_result"
    }
   ],
   "source": [
    "type(A)"
   ]
  },
  {
   "cell_type": "markdown",
   "metadata": {},
   "source": [
    "Arrays in Python\n",
    "--\n",
    "\n",
    ">Arrays are one of the data structures that help you write a number of values into a single variable, thereby reducing the burden of memorizing an enormous number of variables. \n",
    "\n",
    ">Array in Python can be created by importing array module. \n",
    "\n",
    ">array(data_type, value_list) is used to create an array with data type and value list specified in its arguments."
   ]
  },
  {
   "cell_type": "code",
   "execution_count": null,
   "metadata": {},
   "outputs": [],
   "source": [
    "array = _ _ _"
   ]
  },
  {
   "cell_type": "code",
   "execution_count": null,
   "metadata": {},
   "outputs": [],
   "source": [
    "import array as arr \n",
    "  \n",
    "# creating an array with integer type \n",
    "a = arr.array('i', [1, 2, 3]) \n",
    "a"
   ]
  },
  {
   "cell_type": "code",
   "execution_count": null,
   "metadata": {},
   "outputs": [],
   "source": [
    "import array as arr \n",
    "  \n",
    "# creating an array with integer type \n",
    "a = arr.array('i', [1, 2, 3]) \n",
    "for i in a:\n",
    "    print(i)"
   ]
  },
  {
   "cell_type": "code",
   "execution_count": null,
   "metadata": {},
   "outputs": [],
   "source": [
    "# printing original array \n",
    "print (\"The new created array is : \", end =\" \") \n",
    "for i in range (0, 3): \n",
    "    print (a[i], end =\" \") \n",
    "print() "
   ]
  },
  {
   "cell_type": "code",
   "execution_count": null,
   "metadata": {},
   "outputs": [],
   "source": [
    "# creating an array with float type \n",
    "b = arr.array('d', [2.5, 3.2, 3.3]) \n",
    "  \n",
    "# printing original array \n",
    "print (\"The new created array is : \", end =\" \") \n",
    "for i in range (0, 3): \n",
    "    print (b[i], end =\" \") "
   ]
  },
  {
   "cell_type": "raw",
   "metadata": {},
   "source": [
    "Type code --\tPython Data Type --\tByte size\n",
    "i               \tint\t               2\n",
    "I\t                int\t               2\n",
    "u\t            unicode character\t   2\n",
    "h\t                int\t               2\n",
    "H\t                int\t               2\n",
    "l\t                int\t               4\n",
    "L\t                int\t               4\n",
    "f\t                float\t           4\n",
    "d\t                float\t           8"
   ]
  },
  {
   "cell_type": "markdown",
   "metadata": {},
   "source": [
    "Is Python list same as an Array?\n",
    "--\n",
    "\n",
    "The ‘array’ data structure in core python is not very efficient or reliable. Therefore, when we talk about python arrays, we usually mean python lists.\n",
    "\n",
    "However, python does provide Numpy Arrays which are a grid of values used in Data Science. You can look into Numpy Arrays vs Lists to know more."
   ]
  },
  {
   "cell_type": "code",
   "execution_count": null,
   "metadata": {},
   "outputs": [],
   "source": [
    "# Python program to demonstrate  \n",
    "# Adding Elements to a Array \n",
    "  \n",
    "# importing \"array\" for array creations \n",
    "import array as arr \n",
    "  \n",
    "# array with int type \n",
    "a = arr.array('i', [1, 2, 3]) \n",
    "  \n",
    "  \n",
    "print (\"Array before insertion : \", end =\" \") \n",
    "for i in range (0, 3): \n",
    "    print (a[i], end =\" \") \n",
    "print() \n",
    "  \n",
    "# inserting array using  \n",
    "# insert() function \n",
    "a.insert(1, 4)\n",
    "  \n",
    "print (\"Array after insertion : \", end =\" \") \n",
    "for i in (a): \n",
    "    print (i, end =\" \") \n",
    "print()  "
   ]
  },
  {
   "cell_type": "code",
   "execution_count": null,
   "metadata": {},
   "outputs": [],
   "source": [
    "# array with float type \n",
    "b = arr.array('d', [2.5, 3.2, 3.3]) \n",
    "  \n",
    "print (\"Array before insertion : \", end =\" \") \n",
    "for i in range (0, 3): \n",
    "    print (b[i], end =\" \") \n",
    "print() \n",
    "  \n",
    "# adding an element using append() \n",
    "b.append(4.4) \n",
    "  \n",
    "print (\"Array after insertion : \", end =\" \") \n",
    "for i in (b): \n",
    "    print (i, end =\" \") \n",
    "print()  "
   ]
  },
  {
   "cell_type": "markdown",
   "metadata": {},
   "source": [
    "Accessing elements from the Array\n",
    "--\n",
    "\n",
    ">In order to access the array items refer to the index number. \n",
    "\n",
    ">Use the index operator [ ] to access an item in a array. The index must be an integer."
   ]
  },
  {
   "cell_type": "code",
   "execution_count": null,
   "metadata": {},
   "outputs": [],
   "source": [
    "# importing array module \n",
    "import array as arr \n",
    "  \n",
    "# array with int type \n",
    "a = arr.array('i', [1, 2, 3, 4, 5, 6]) \n",
    "  \n",
    "# accessing element of array \n",
    "print(\"Access element is: \", a[0]) \n",
    "  \n",
    "# accessing element of array \n",
    "print(\"Access element is: \", a[3]) \n",
    "  \n",
    "# array with float type \n",
    "b = arr.array('d', [2.5, 3.2, 3.3]) \n",
    "  \n",
    "# accessing element of array \n",
    "print(\"Access element is: \", b[1]) \n",
    "  \n",
    "# accessing element of array \n",
    "print(\"Access element is: \", b[2]) "
   ]
  },
  {
   "cell_type": "markdown",
   "metadata": {},
   "source": [
    "Removing Elements from the Array\n",
    "--\n",
    "\n",
    "Elements can be removed from the array by using built-in remove() function but an Error arises if element doesn’t exist in the set. \n",
    "\n",
    "Remove() method only removes one element at a time, to remove range of elements, iterator is used. \n",
    "\n",
    "pop() function can also be used to remove and return an element from the array, but by default it removes only the last element of the array, to remove element from a specific position of the array, index of the element is passed as an argument to the pop() method.\n",
    "\n",
    "__Note – Remove method in List will only remove the first occurrence of the searched element.__"
   ]
  },
  {
   "cell_type": "code",
   "execution_count": null,
   "metadata": {},
   "outputs": [],
   "source": [
    "import array \n",
    "   \n",
    "# initializing array with array values \n",
    "# initializes array with signed integers \n",
    "arr = array.array('i', [1, 2, 3, 1, 5])  \n",
    "  \n",
    "# printing original array \n",
    "print (\"The new created array is : \", end =\"\") \n",
    "for i in range (0, 5): \n",
    "    print (arr[i], end =\" \") \n",
    "  \n",
    "print (\"\\r\") \n",
    "  \n",
    "# using pop() to remove element at 2nd position \n",
    "print (\"The popped element is : \", end =\"\") \n",
    "print (arr.pop(2)) \n",
    "  \n",
    "# printing array after popping \n",
    "print (\"The array after popping is : \", end =\"\") \n",
    "for i in range (0, 4): \n",
    "    print (arr[i], end =\" \") \n",
    "  \n",
    "print(\"\\r\") \n",
    "  \n",
    "# using remove() to remove 1st occurrence of 1 \n",
    "arr.remove(1) \n",
    "  \n",
    "# printing array after removing \n",
    "print (\"The array after removing is : \", end =\"\") \n",
    "for i in range (0, 3): \n",
    "    print (arr[i], end =\" \") "
   ]
  },
  {
   "cell_type": "code",
   "execution_count": null,
   "metadata": {},
   "outputs": [],
   "source": [
    "# Slicing of a Array\n",
    "import array as arr \n",
    "  \n",
    "# creating a list  \n",
    "l = [1, 2, 3, 4, 5, 6, 7, 8, 9, 10] \n",
    "  \n",
    "a = arr.array('i', l) \n",
    "print(\"Intial Array: \") \n",
    "for i in (a): \n",
    "    print(i, end =\" \") \n",
    "print()\n",
    "print(a[3:8])\n",
    "print(a[5:])\n",
    "print(a[:]) "
   ]
  },
  {
   "cell_type": "markdown",
   "metadata": {},
   "source": [
    "Searching element in a Array\n",
    "--\n",
    "In order to search an element in the array we use a python in-built index() method. \n",
    "\n",
    "This function returns the index of the first occurrence of value mentioned in arguments."
   ]
  },
  {
   "cell_type": "code",
   "execution_count": null,
   "metadata": {},
   "outputs": [],
   "source": [
    "arr = array.array('i', [1, 2, 3, 1, 2, 5])  \n",
    "  \n",
    "# printing original array \n",
    "print (\"The new created array is : \", end =\"\") \n",
    "for i in range (0, 6): \n",
    "    print (arr[i], end =\" \") \n",
    "\n",
    "print()\n",
    "print (arr.index(2)) # gives index of number 2\n",
    "  \n",
    "print (arr.index(1)) "
   ]
  },
  {
   "cell_type": "markdown",
   "metadata": {},
   "source": [
    "Updating Elements in a Array\n",
    "--"
   ]
  },
  {
   "cell_type": "code",
   "execution_count": null,
   "metadata": {},
   "outputs": [],
   "source": [
    "arr = array.array('i', [1, 2, 3, 1, 2, 5])  \n",
    "  \n",
    "# printing original array \n",
    "print (\"Array before updation : \", end =\"\") \n",
    "for i in range (0, 6): \n",
    "    print (arr[i], end =\" \") \n",
    "  \n",
    "print (\"\\n\") \n",
    "  \n",
    "# updating a element in a array \n",
    "arr[2] = 6\n",
    "print(\"Array after updation : \", end =\"\") \n",
    "for i in range (0, 6): \n",
    "    print (arr[i], end =\" \") \n",
    "print() \n",
    "  \n",
    "# updating a element in a array \n",
    "arr[4] = 8\n",
    "print(\"Array after updation : \", end =\"\") \n",
    "for i in range (0, 6): \n",
    "    print (arr[i], end =\" \") "
   ]
  },
  {
   "cell_type": "code",
   "execution_count": null,
   "metadata": {},
   "outputs": [],
   "source": []
  }
 ],
 "metadata": {
  "kernelspec": {
   "display_name": "Python 3 (ipykernel)",
   "language": "python",
   "name": "python3"
  },
  "language_info": {
   "codemirror_mode": {
    "name": "ipython",
    "version": 3
   },
   "file_extension": ".py",
   "mimetype": "text/x-python",
   "name": "python",
   "nbconvert_exporter": "python",
   "pygments_lexer": "ipython3",
   "version": "3.10.7"
  },
  "toc": {
   "base_numbering": 1,
   "nav_menu": {},
   "number_sections": true,
   "sideBar": true,
   "skip_h1_title": false,
   "title_cell": "Table of Contents",
   "title_sidebar": "Contents",
   "toc_cell": false,
   "toc_position": {},
   "toc_section_display": true,
   "toc_window_display": false
  }
 },
 "nbformat": 4,
 "nbformat_minor": 2
}
