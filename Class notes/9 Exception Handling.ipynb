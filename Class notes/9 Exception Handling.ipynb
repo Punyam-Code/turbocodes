{
 "cells": [
  {
   "cell_type": "markdown",
   "metadata": {},
   "source": [
    ">Exception is an abnormal condition in a program.\n",
    "\n",
    ">It is a run time error.\n",
    "\n",
    ">If we raise an exception, we can prevent the program from crashing."
   ]
  },
  {
   "cell_type": "code",
   "execution_count": 1,
   "metadata": {},
   "outputs": [
    {
     "ename": "ZeroDivisionError",
     "evalue": "division by zero",
     "output_type": "error",
     "traceback": [
      "\u001b[1;31m---------------------------------------------------------------------------\u001b[0m",
      "\u001b[1;31mZeroDivisionError\u001b[0m                         Traceback (most recent call last)",
      "Cell \u001b[1;32mIn [1], line 3\u001b[0m\n\u001b[0;32m      1\u001b[0m a \u001b[38;5;241m=\u001b[39m \u001b[38;5;241m1\u001b[39m\n\u001b[0;32m      2\u001b[0m b \u001b[38;5;241m=\u001b[39m \u001b[38;5;241m0\u001b[39m\n\u001b[1;32m----> 3\u001b[0m \u001b[38;5;28mprint\u001b[39m(a\u001b[38;5;241m/\u001b[39mb)\n",
      "\u001b[1;31mZeroDivisionError\u001b[0m: division by zero"
     ]
    }
   ],
   "source": [
    "a = 1\n",
    "b = 0\n",
    "print(a/b)"
   ]
  },
  {
   "cell_type": "code",
   "execution_count": 19,
   "metadata": {},
   "outputs": [
    {
     "name": "stdout",
     "output_type": "stream",
     "text": [
      "inside second exception unsupported operand type(s) for /: 'int' and 'str'\n"
     ]
    }
   ],
   "source": [
    "try:\n",
    "    a=1\n",
    "    b='a'\n",
    "    if b ==99:\n",
    "        raise print(\"can't divide by 99\")\n",
    "    print(a/b)\n",
    "except ZeroDivisionError as e:\n",
    "    print(e)\n",
    "except Exception as e:\n",
    "    print('inside second exception',e)"
   ]
  },
  {
   "cell_type": "code",
   "execution_count": 20,
   "metadata": {},
   "outputs": [],
   "source": [
    "import os"
   ]
  },
  {
   "cell_type": "code",
   "execution_count": 25,
   "metadata": {},
   "outputs": [
    {
     "data": {
      "text/plain": [
       "'C:\\\\Users\\\\91790\\\\Documents\\\\class\\\\ashu\\\\ashu\\\\Python Class'"
      ]
     },
     "execution_count": 25,
     "metadata": {},
     "output_type": "execute_result"
    }
   ],
   "source": [
    "os.getcwd()"
   ]
  },
  {
   "cell_type": "code",
   "execution_count": 26,
   "metadata": {},
   "outputs": [
    {
     "name": "stdout",
     "output_type": "stream",
     "text": [
      "0\n",
      "1\n",
      "2\n",
      "3\n",
      "4\n",
      "5\n",
      "6\n",
      "7\n",
      "8\n",
      "9\n",
      "10\n",
      "11\n",
      "12\n",
      "13\n"
     ]
    },
    {
     "ename": "KeyboardInterrupt",
     "evalue": "",
     "output_type": "error",
     "traceback": [
      "\u001b[1;31m---------------------------------------------------------------------------\u001b[0m",
      "\u001b[1;31mKeyboardInterrupt\u001b[0m                         Traceback (most recent call last)",
      "Cell \u001b[1;32mIn [26], line 4\u001b[0m\n\u001b[0;32m      2\u001b[0m \u001b[38;5;28;01mfor\u001b[39;00m i \u001b[38;5;129;01min\u001b[39;00m \u001b[38;5;28mrange\u001b[39m(\u001b[38;5;241m100\u001b[39m):\n\u001b[0;32m      3\u001b[0m     \u001b[38;5;28mprint\u001b[39m(i)\n\u001b[1;32m----> 4\u001b[0m     time\u001b[38;5;241m.\u001b[39msleep(\u001b[38;5;241m1\u001b[39m)\n",
      "\u001b[1;31mKeyboardInterrupt\u001b[0m: "
     ]
    }
   ],
   "source": [
    "import time\n",
    "for i in range(100):\n",
    "    print(i)\n",
    "    time.sleep(1)"
   ]
  },
  {
   "cell_type": "code",
   "execution_count": 31,
   "metadata": {},
   "outputs": [],
   "source": [
    "a = 10000000099999999999999999999999999999999999999999999999999999999999999999999999999999999999999999999999999999999999999999999999999999999999999999999999999999999999999999999999999999999999999999999999999999999999999999999999999999999999999999999999999999999999999999999999999999999999999999999999999999999999999999999999999999999999999999999999999999999999999999999999999999999999999999999999999999999999999999999999999999999999999999999999999999999999999999999999999999999999999999999999999999999999999999999999999999999999999999999999999999999999999999999999999999999999999999999999999999999999999999999999999999999999999999999999999999999999999999999999999999999999999999999999999999999999999999999999999999999999999999999999999999999999999999999999999999999999999999999999999999999999999999999999999999999999999999999999999999999999999999999999999999999999999999999999999999999999999999999999999999999999999999999999999999999999999999999999999999999999999999999999999999999999999999999999999999999999999999999999999999999999999999999999999999999999999999999999999999999999999999999999999999999999999999999999999999999999999999999999999999999999999999999999999999999999999999999999999999999999999999999999999999999999999999999999999999999999999999999999999999999999999999999999999999999999999999999999999999999999999999999999999999999999999999999999999999999999999999999999999999999999999999999999999999999999999999999999999999999999999999999999999999999999999999999999999999999999999999999999999999999999999999999999999999999999999999999999999999999999999999999999999999999999999999999999999999999999999999999999999999999999999999999999999999999999999999999999999999999999999999999999999999999999999999999999999999999999999999999999999999999999999999999999999999999999999999999999999999999999999999999999999999999999999999999999999999999999999999999999999999999999999999999999999999999999999999999999999999999999999999999999999999999999999999999999999999999999999999999999999999999999999999999999999999999999999999999999999999999999999"
   ]
  },
  {
   "cell_type": "code",
   "execution_count": 32,
   "metadata": {},
   "outputs": [
    {
     "name": "stdout",
     "output_type": "stream",
     "text": [
      "10000000099999999999999999999999999999999999999999999999999999999999999999999999999999999999999999999999999999999999999999999999999999999999999999999999999999999999999999999999999999999999999999999999999999999999999999999999999999999999999999999999999999999999999999999999999999999999999999999999999999999999999999999999999999999999999999999999999999999999999999999999999999999999999999999999999999999999999999999999999999999999999999999999999999999999999999999999999999999999999999999999999999999999999999999999999999999999999999999999999999999999999999999999999999999999999999999999999999999999999999999999999999999999999999999999999999999999999999999999999999999999999999999999999999999999999999999999999999999999999999999999999999999999999999999999999999999999999999999999999999999999999999999999999999999999999999999999999999999999999999999999999999999999999999999999999999999999999999999999999999999999999999999999999999999999999999999999999999999999999999999999999999999999999999999999999999999999999999999999999999999999999999999999999999999999999999999999999999999999999999999999999999999999999999999999999999999999999999999999999999999999999999999999999999999999999999999999999999999999999999999999999999999999999999999999999999999999999999999999999999999999999999999999999999999999999999999999999999999999999999999999999999999999999999999999999999999999999999999999999999999999999999999999999999999999999999999999999999999999999999999999999999999999999999999999999999999999999999999999999999999999999999999999999999999999999999999999999999999999999999999999999999999999999999999999999999999999999999999999999999999999999999999999999999999999999999999999999999999999999999999999999999999999999999999999999999999999999999999999999999999999999999999999999999999999999999999999999999999999999999999999999999999999999999999999999999999999999999999999999999999999999999999999999999999999999999999999999999999999999999999999999999999999999999999999999999999999999999999999999999999999999999999999999999999999999999999999999999999999999\n"
     ]
    }
   ],
   "source": [
    "print(a)"
   ]
  },
  {
   "cell_type": "code",
   "execution_count": 2,
   "metadata": {
    "scrolled": true
   },
   "outputs": [
    {
     "name": "stdout",
     "output_type": "stream",
     "text": [
      "Enter you age :asshu\n"
     ]
    },
    {
     "ename": "ValueError",
     "evalue": "invalid literal for int() with base 10: 'asshu'",
     "output_type": "error",
     "traceback": [
      "\u001b[1;31m---------------------------------------------------------------------------\u001b[0m",
      "\u001b[1;31mValueError\u001b[0m                                Traceback (most recent call last)",
      "Cell \u001b[1;32mIn [2], line 1\u001b[0m\n\u001b[1;32m----> 1\u001b[0m age \u001b[38;5;241m=\u001b[39m \u001b[38;5;28mint\u001b[39m(\u001b[38;5;28minput\u001b[39m(\u001b[38;5;124m'\u001b[39m\u001b[38;5;124mEnter you age :\u001b[39m\u001b[38;5;124m'\u001b[39m))\n",
      "\u001b[1;31mValueError\u001b[0m: invalid literal for int() with base 10: 'asshu'"
     ]
    }
   ],
   "source": [
    "age = int(input('Enter you age :'))"
   ]
  },
  {
   "cell_type": "markdown",
   "metadata": {},
   "source": [
    "Built-in Exceptions for Python\n",
    "--\n",
    "\n",
    "Exception - Base class for all exceptions\n",
    "\n",
    "ArithmeticError - numeric caluclations\n",
    "\n",
    "OverflowError - maximum limit for numeric type\n",
    "\n",
    "ZeroDivisionError - divide by zero\n",
    "\n",
    "ImportError - when import fails\n",
    "\n",
    "KeyboardInterrupt - usually when the user interrupts the program execution by pressing Ctrl+c\n",
    "\n",
    "IndexError - index not found in the sequence\n",
    "\n",
    "KeyError - key not found in the sequence\n",
    "\n",
    "OSError - OS related errors\n",
    "\n",
    "ValueError, TypeError and so on."
   ]
  },
  {
   "cell_type": "code",
   "execution_count": 37,
   "metadata": {},
   "outputs": [
    {
     "data": {
      "text/plain": [
       "10.0"
      ]
     },
     "execution_count": 37,
     "metadata": {},
     "output_type": "execute_result"
    }
   ],
   "source": [
    "10/1.0"
   ]
  },
  {
   "cell_type": "code",
   "execution_count": 33,
   "metadata": {},
   "outputs": [
    {
     "name": "stdout",
     "output_type": "stream",
     "text": [
      "Enter 1st number:q\n"
     ]
    },
    {
     "ename": "ValueError",
     "evalue": "could not convert string to float: 'q'",
     "output_type": "error",
     "traceback": [
      "\u001b[1;31m---------------------------------------------------------------------------\u001b[0m",
      "\u001b[1;31mValueError\u001b[0m                                Traceback (most recent call last)",
      "Cell \u001b[1;32mIn [33], line 1\u001b[0m\n\u001b[1;32m----> 1\u001b[0m a\u001b[38;5;241m=\u001b[39m\u001b[38;5;28mfloat\u001b[39m(\u001b[38;5;28minput\u001b[39m(\u001b[38;5;124m\"\u001b[39m\u001b[38;5;124mEnter 1st number:\u001b[39m\u001b[38;5;124m\"\u001b[39m))\n\u001b[0;32m      2\u001b[0m b\u001b[38;5;241m=\u001b[39m\u001b[38;5;28mfloat\u001b[39m(\u001b[38;5;28minput\u001b[39m(\u001b[38;5;124m\"\u001b[39m\u001b[38;5;124mEnter 2nd number:\u001b[39m\u001b[38;5;124m\"\u001b[39m))\n\u001b[0;32m      3\u001b[0m c\u001b[38;5;241m=\u001b[39ma\u001b[38;5;241m/\u001b[39mb\n",
      "\u001b[1;31mValueError\u001b[0m: could not convert string to float: 'q'"
     ]
    }
   ],
   "source": [
    "a=float(input(\"Enter 1st number:\"))\n",
    "b=float(input(\"Enter 2nd number:\"))\n",
    "c=a/b\n",
    "print(\"Division of a=\",a,\"and b=\",b,\"is c=\",round(c,2))"
   ]
  },
  {
   "cell_type": "code",
   "execution_count": 25,
   "metadata": {},
   "outputs": [
    {
     "name": "stdout",
     "output_type": "stream",
     "text": [
      "1\n",
      "2\n",
      "0.5\n",
      "scuccessfully executed the code and caught the errors\n"
     ]
    }
   ],
   "source": [
    "try:\n",
    "    a = int(input())\n",
    "    b = int(input())\n",
    "    print(a/b)\n",
    "except ZeroDivisionError:\n",
    "    print('can not divide by zero')\n",
    "except ValueError:\n",
    "    print('int is req for division')\n",
    "else:\n",
    "    print('scuccessfully executed the code and caught the errors')"
   ]
  },
  {
   "cell_type": "code",
   "execution_count": 33,
   "metadata": {},
   "outputs": [
    {
     "name": "stdout",
     "output_type": "stream",
     "text": [
      "1\n",
      "0\n",
      "1\n",
      "0\n",
      "1\n",
      "ERROR FOUND\n",
      "code is executed\n"
     ]
    }
   ],
   "source": [
    "a = [1,2,3,4,5,'True',3,4,5,6]\n",
    "\n",
    "try:\n",
    "    for i in a:\n",
    "        print(i%2)\n",
    "except Exception:\n",
    "    print('ERROR FOUND')   \n",
    "print('code is executed')\n"
   ]
  },
  {
   "cell_type": "code",
   "execution_count": 34,
   "metadata": {},
   "outputs": [
    {
     "name": "stdout",
     "output_type": "stream",
     "text": [
      "10\n",
      "9\n",
      "8\n",
      "7\n",
      "6\n",
      "5\n",
      "4\n",
      "3\n"
     ]
    }
   ],
   "source": [
    "a=10\n",
    "while a>2:\n",
    "    print(a)\n",
    "    a=a-1\n"
   ]
  },
  {
   "cell_type": "code",
   "execution_count": 37,
   "metadata": {},
   "outputs": [
    {
     "name": "stdout",
     "output_type": "stream",
     "text": [
      "123_2334_234245\n"
     ]
    }
   ],
   "source": [
    "print(123,2334,234245 , sep = '_')"
   ]
  },
  {
   "cell_type": "code",
   "execution_count": 38,
   "metadata": {},
   "outputs": [
    {
     "name": "stdout",
     "output_type": "stream",
     "text": [
      "Enter 1st number:1\n",
      "Enter 2nd number:2\n",
      "Division of a= 1.0 and b= 2.0 is c= 0.5\n"
     ]
    }
   ],
   "source": [
    "while True:\n",
    "    try:\n",
    "        a=float(input(\"Enter 1st number:\"))\n",
    "        b=float(input(\"Enter 2nd number:\"))\n",
    "        c=a/b ## exception\n",
    "        print(\"Division of a=\",a,\"and b=\",b,\"is c=\",round(c,2))\n",
    "        break\n",
    "    except Exception:\n",
    "        print(\"Something is wrong. Please try again.\")"
   ]
  },
  {
   "cell_type": "code",
   "execution_count": 40,
   "metadata": {},
   "outputs": [],
   "source": [
    "def login(username,password,dob):\n",
    "    try:\n",
    "        if username == 'dash':\n",
    "            password = password[::-1]\n",
    "            if password == 'toor':\n",
    "                if dob == '12:12:1999':\n",
    "                    print('access granted')\n",
    "\n",
    "                else:\n",
    "                    print('wrong dob')\n",
    "            else:\n",
    "                print('wrong password')\n",
    "        else:\n",
    "            print('access denied for different user')\n",
    "    except Exception:\n",
    "        print('wrong credentials')"
   ]
  },
  {
   "cell_type": "code",
   "execution_count": 43,
   "metadata": {},
   "outputs": [
    {
     "name": "stdout",
     "output_type": "stream",
     "text": [
      "access denied for different user\n"
     ]
    }
   ],
   "source": [
    "login('qw',12,12/12/2002)"
   ]
  },
  {
   "cell_type": "markdown",
   "metadata": {},
   "source": [
    "- after 3rd consecutive wrong pass return message: \"warning:Wrong pass do not procceed with incorrect pass\"\n",
    "- after 6th consecutive wrong pass return message: \"Crtitical warning:Wrong pass do not procceed with incorrect pass, function will be locaked after 3 more attpets\"\n",
    "- after 9th consecutive wrong pass return message: \"Function Locked, Connot procceed\""
   ]
  },
  {
   "cell_type": "code",
   "execution_count": 47,
   "metadata": {},
   "outputs": [],
   "source": [
    "a = 1234"
   ]
  },
  {
   "cell_type": "code",
   "execution_count": null,
   "metadata": {},
   "outputs": [],
   "source": []
  },
  {
   "cell_type": "code",
   "execution_count": 44,
   "metadata": {},
   "outputs": [
    {
     "data": {
      "text/plain": [
       "1"
      ]
     },
     "execution_count": 44,
     "metadata": {},
     "output_type": "execute_result"
    }
   ],
   "source": [
    "len(a)"
   ]
  },
  {
   "cell_type": "code",
   "execution_count": null,
   "metadata": {},
   "outputs": [],
   "source": [
    "login('dash',)"
   ]
  },
  {
   "cell_type": "code",
   "execution_count": 4,
   "metadata": {},
   "outputs": [
    {
     "name": "stdout",
     "output_type": "stream",
     "text": [
      "Enter 1st number:j\n",
      "Input must be a number. Please try again.\n",
      "Enter 1st number:1\n",
      "Enter 2nd number:0\n",
      "2nd input cannot be zero. Please try again.\n",
      "Enter 1st number:1\n",
      "Enter 2nd number:2\n",
      "Division of a= 1.0 and b= 2.0 is c= 0.5\n"
     ]
    }
   ],
   "source": [
    "while True:\n",
    "    try:\n",
    "        a=float(input(\"Enter 1st number:\"))\n",
    "        b=float(input(\"Enter 2nd number:\"))\n",
    "        c=a/b\n",
    "        print(\"Division of a=\",a,\"and b=\",b,\"is c=\",round(c,2))\n",
    "        break\n",
    "    except ZeroDivisionError:\n",
    "        print(\"2nd input cannot be zero. Please try again.\")\n",
    "    except ValueError:\n",
    "        print(\"Input must be a number. Please try again.\")"
   ]
  },
  {
   "cell_type": "markdown",
   "metadata": {},
   "source": [
    "try - except\n",
    "--"
   ]
  },
  {
   "cell_type": "markdown",
   "metadata": {},
   "source": [
    "try - except - else\n",
    "--"
   ]
  },
  {
   "cell_type": "code",
   "execution_count": 6,
   "metadata": {},
   "outputs": [
    {
     "name": "stdout",
     "output_type": "stream",
     "text": [
      "Enter 1st number:1\n",
      "Enter 2nd number:2\n",
      "Division of a= 1.0 and b= 2.0 is c= 0.5\n"
     ]
    }
   ],
   "source": [
    "    try:\n",
    "        a=float(input(\"Enter 1st number:\"))\n",
    "        b=float(input(\"Enter 2nd number:\"))\n",
    "        c=a/b\n",
    "    except ZeroDivisionError:\n",
    "        print(\"2nd input cannot be zero. Please try again.\")\n",
    "    except ValueError:\n",
    "        print(\"Input must be a number. Please try again.\")\n",
    "    else:\n",
    "        print(\"Division of a=\",a,\"and b=\",b,\"is c=\",round(c,2))"
   ]
  },
  {
   "cell_type": "code",
   "execution_count": 4,
   "metadata": {},
   "outputs": [
    {
     "name": "stdout",
     "output_type": "stream",
     "text": [
      "Enter 1st number:1\n",
      "Enter 2nd number:0\n",
      "2nd input cannot be zero. Please try again.\n",
      "Enter 1st number:1\n",
      "Enter 2nd number:m\n",
      "Input must be a number. Please try again.\n",
      "Enter 1st number:1\n",
      "Enter 2nd number:2\n",
      "Division of a= 1.0 and b= 2.0 is c= 0.5\n"
     ]
    }
   ],
   "source": [
    "while True:\n",
    "    try:\n",
    "        a=float(input(\"Enter 1st number:\"))\n",
    "        b=float(input(\"Enter 2nd number:\"))\n",
    "        c=a/b\n",
    "    except ZeroDivisionError:\n",
    "        print(\"2nd input cannot be zero. Please try again.\")\n",
    "    except ValueError:\n",
    "        print(\"Input must be a number. Please try again.\")\n",
    "    except Exception:\n",
    "        print(\"Something is wrong. Please try again.\")\n",
    "    else:\n",
    "        print(\"Division of a=\",a,\"and b=\",b,\"is c=\",round(c,2))\n",
    "        break"
   ]
  },
  {
   "cell_type": "code",
   "execution_count": null,
   "metadata": {},
   "outputs": [],
   "source": [
    "try:\n",
    "    x=int(input(\"Enter a no: \"))\n",
    "    ans=100/x\n",
    "except ValueError:\n",
    "    print(\"Value is not int type\")\n",
    "except ZeroDivisionError:\n",
    "    print(\"Dont use a zero.\")\n",
    "else:\n",
    "    print(\"Answer is: \",ans)"
   ]
  },
  {
   "cell_type": "markdown",
   "metadata": {},
   "source": [
    "except with multiple attributes\n",
    "--"
   ]
  },
  {
   "cell_type": "code",
   "execution_count": null,
   "metadata": {},
   "outputs": [],
   "source": [
    "try:\n",
    "    x=int(input(\"Enter a no: \"))\n",
    "    ans=100/x\n",
    "except (ValueError,ZeroDivisionError):\n",
    "    print(\"Something is wrong. Please try again\")\n",
    "else:\n",
    "    print(\"Answer is: \",ans)"
   ]
  },
  {
   "cell_type": "markdown",
   "metadata": {},
   "source": [
    "try - finally\n",
    "--"
   ]
  },
  {
   "cell_type": "code",
   "execution_count": 2,
   "metadata": {},
   "outputs": [
    {
     "name": "stdout",
     "output_type": "stream",
     "text": [
      "Enter a no: 0\n",
      "Dont use a zero.\n",
      "End of Program.\n",
      "By hook or crook, I will be executed for sure.\n"
     ]
    }
   ],
   "source": [
    "try:\n",
    "    x=int(input(\"Enter a no: \"))\n",
    "    ans=100/x\n",
    "except ValueError:\n",
    "    print(\"Value is not int type\")\n",
    "except ZeroDivisionError:\n",
    "    print(\"Dont use a zero.\")\n",
    "else:\n",
    "    print(\"Answer is: \",ans)\n",
    "finally:\n",
    "    print(\"End of Program.\")\n",
    "    print(\"By hook or crook, I will be executed for sure.\")"
   ]
  },
  {
   "cell_type": "markdown",
   "metadata": {},
   "source": [
    "finally with multiple except\n",
    "--"
   ]
  },
  {
   "cell_type": "code",
   "execution_count": 67,
   "metadata": {},
   "outputs": [
    {
     "data": {
      "text/plain": [
       "0.125"
      ]
     },
     "execution_count": 67,
     "metadata": {},
     "output_type": "execute_result"
    }
   ],
   "source": [
    "1/8"
   ]
  },
  {
   "cell_type": "code",
   "execution_count": 69,
   "metadata": {},
   "outputs": [
    {
     "name": "stdout",
     "output_type": "stream",
     "text": [
      "wrong execution\n"
     ]
    }
   ],
   "source": [
    "try:\n",
    "    a = {[1,2,3,4]}\n",
    "except Exception:\n",
    "    print('wrong execution')"
   ]
  },
  {
   "cell_type": "code",
   "execution_count": null,
   "metadata": {},
   "outputs": [],
   "source": [
    "try:\n",
    "    x=int(input(\"Enter a no: \"))\n",
    "    ans=100/x\n",
    "except (ValueError,ZeroDivisionError):\n",
    "    print(\"Something is wrong. Please try again\")\n",
    "else:\n",
    "    print(\"Answer is: \",ans)\n",
    "finally:\n",
    "    print(\"End of Program.\")\n",
    "    print(\"By hook or crook, I will be executed for sure.\")"
   ]
  },
  {
   "cell_type": "markdown",
   "metadata": {},
   "source": [
    "raising exceptions\n",
    "--"
   ]
  },
  {
   "cell_type": "code",
   "execution_count": 10,
   "metadata": {},
   "outputs": [
    {
     "name": "stdout",
     "output_type": "stream",
     "text": [
      "Enter age for checking vote eligibility:17\n",
      "Age is less than 18\n"
     ]
    }
   ],
   "source": [
    "val = int(input(\"Enter age for checking vote eligibility:\"))\n",
    "try:\n",
    "    if val<=18:\n",
    "        raise IOError\n",
    "    else:\n",
    "        print(\"Eligible\")\n",
    "except IOError:\n",
    "    print(\"Age is less than 18\")"
   ]
  },
  {
   "cell_type": "markdown",
   "metadata": {},
   "source": [
    "exception with arguments\n",
    "--"
   ]
  },
  {
   "cell_type": "code",
   "execution_count": 70,
   "metadata": {},
   "outputs": [
    {
     "name": "stdout",
     "output_type": "stream",
     "text": [
      "Enter a no: 0\n",
      "Exception caught is: division by zero\n",
      "Type of the exception which is caught is: <class 'ZeroDivisionError'>\n"
     ]
    }
   ],
   "source": [
    "try:\n",
    "    x=int(input(\"Enter a no: \"))\n",
    "    ans=100/x\n",
    "except Exception as e:\n",
    "    print(\"Exception caught is:\",e)\n",
    "    print(\"Type of the exception which is caught is:\",type(e))\n",
    "else:\n",
    "    print(\"Answer is: \",ans)"
   ]
  },
  {
   "cell_type": "code",
   "execution_count": 49,
   "metadata": {},
   "outputs": [
    {
     "ename": "AssertionError",
     "evalue": "wrong values",
     "output_type": "error",
     "traceback": [
      "\u001b[1;31m---------------------------------------------------------------------------\u001b[0m",
      "\u001b[1;31mAssertionError\u001b[0m                            Traceback (most recent call last)",
      "Cell \u001b[1;32mIn [49], line 1\u001b[0m\n\u001b[1;32m----> 1\u001b[0m \u001b[38;5;28;01massert\u001b[39;00m \u001b[38;5;241m2\u001b[39m\u001b[38;5;241m==\u001b[39m\u001b[38;5;241m12\u001b[39m,\u001b[38;5;124m\"\u001b[39m\u001b[38;5;124mwrong values\u001b[39m\u001b[38;5;124m\"\u001b[39m\n",
      "\u001b[1;31mAssertionError\u001b[0m: wrong values"
     ]
    }
   ],
   "source": [
    "assert obj_count>0,\"wrong values\""
   ]
  },
  {
   "cell_type": "code",
   "execution_count": null,
   "metadata": {},
   "outputs": [],
   "source": []
  }
 ],
 "metadata": {
  "kernelspec": {
   "display_name": "Python 3 (ipykernel)",
   "language": "python",
   "name": "python3"
  },
  "language_info": {
   "codemirror_mode": {
    "name": "ipython",
    "version": 3
   },
   "file_extension": ".py",
   "mimetype": "text/x-python",
   "name": "python",
   "nbconvert_exporter": "python",
   "pygments_lexer": "ipython3",
   "version": "3.10.7"
  },
  "toc": {
   "base_numbering": 1,
   "nav_menu": {},
   "number_sections": true,
   "sideBar": true,
   "skip_h1_title": false,
   "title_cell": "Table of Contents",
   "title_sidebar": "Contents",
   "toc_cell": false,
   "toc_position": {},
   "toc_section_display": true,
   "toc_window_display": false
  }
 },
 "nbformat": 4,
 "nbformat_minor": 2
}
