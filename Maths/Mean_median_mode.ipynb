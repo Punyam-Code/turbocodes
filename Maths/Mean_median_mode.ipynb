{
  "nbformat": 4,
  "nbformat_minor": 0,
  "metadata": {
    "colab": {
      "provenance": [],
      "toc_visible": true
    },
    "kernelspec": {
      "name": "python3",
      "display_name": "Python 3"
    },
    "language_info": {
      "name": "python"
    }
  },
  "cells": [
    {
      "cell_type": "markdown",
      "source": [
        "Using the statistics module"
      ],
      "metadata": {
        "id": "8Y6dKwSCQSYj"
      }
    },
    {
      "cell_type": "code",
      "execution_count": 1,
      "metadata": {
        "id": "tdTChRzAPwJp"
      },
      "outputs": [],
      "source": [
        "import statistics\n"
      ]
    },
    {
      "cell_type": "code",
      "source": [
        "data = [4, 8, 6,8, 5, 3, 2, 8, 9, 5]\n"
      ],
      "metadata": {
        "id": "dYEZPEtZQkKr"
      },
      "execution_count": 16,
      "outputs": []
    },
    {
      "cell_type": "code",
      "source": [
        "mean = statistics.mean(data)\n",
        "median = statistics.median(data)\n",
        "mode = statistics.mode(data)\n"
      ],
      "metadata": {
        "id": "zothvxECQrJT"
      },
      "execution_count": 17,
      "outputs": []
    },
    {
      "cell_type": "code",
      "source": [
        "print(\"Mean:\", mean)\n",
        "print(\"Median:\", median)\n",
        "print(\"Mode:\", mode)\n"
      ],
      "metadata": {
        "colab": {
          "base_uri": "https://localhost:8080/"
        },
        "id": "D8PNBJ21Q4qI",
        "outputId": "10354872-85ea-4c77-d10f-f40d61711250"
      },
      "execution_count": 18,
      "outputs": [
        {
          "output_type": "stream",
          "name": "stdout",
          "text": [
            "Mean: 5.8\n",
            "Median: 5.5\n",
            "Mode: 8\n"
          ]
        }
      ]
    },
    {
      "cell_type": "markdown",
      "source": [
        "Using the NumPy module:"
      ],
      "metadata": {
        "id": "7SSWE73iRX7z"
      }
    },
    {
      "cell_type": "code",
      "source": [
        "import numpy as np\n"
      ],
      "metadata": {
        "id": "QPiNpmF9Q6eX"
      },
      "execution_count": 19,
      "outputs": []
    },
    {
      "cell_type": "code",
      "source": [
        "arr = np.array(data)\n"
      ],
      "metadata": {
        "id": "laBMDzt6Rowd"
      },
      "execution_count": 20,
      "outputs": []
    },
    {
      "cell_type": "code",
      "source": [
        "mean = np.mean(arr)\n",
        "median = np.median(arr)\n",
        "mode = np.bincount(arr).argmax()\n"
      ],
      "metadata": {
        "id": "TbcLcb60RtDE"
      },
      "execution_count": 21,
      "outputs": []
    },
    {
      "cell_type": "code",
      "source": [
        "print(\"Mean:\", mean)\n",
        "print(\"Median:\", median)\n",
        "print(\"Mode:\", mode)\n"
      ],
      "metadata": {
        "colab": {
          "base_uri": "https://localhost:8080/"
        },
        "id": "60uSJdGNRy9h",
        "outputId": "f2dabf52-f810-4513-a407-987e39a32808"
      },
      "execution_count": 22,
      "outputs": [
        {
          "output_type": "stream",
          "name": "stdout",
          "text": [
            "Mean: 5.8\n",
            "Median: 5.5\n",
            "Mode: 8\n"
          ]
        }
      ]
    },
    {
      "cell_type": "markdown",
      "source": [
        "Using the pandas module:"
      ],
      "metadata": {
        "id": "NEfQbQW3STUd"
      }
    },
    {
      "cell_type": "code",
      "source": [
        "import pandas as pd\n"
      ],
      "metadata": {
        "id": "lyxNuYzTR25C"
      },
      "execution_count": 23,
      "outputs": []
    },
    {
      "cell_type": "code",
      "source": [
        "df = pd.DataFrame(data)\n",
        "print(df)\n"
      ],
      "metadata": {
        "colab": {
          "base_uri": "https://localhost:8080/"
        },
        "id": "SHKtfA6OSXP4",
        "outputId": "937a355d-08ff-4143-d111-2e6687bf742f"
      },
      "execution_count": 32,
      "outputs": [
        {
          "output_type": "stream",
          "name": "stdout",
          "text": [
            "   0\n",
            "0  4\n",
            "1  8\n",
            "2  6\n",
            "3  8\n",
            "4  5\n",
            "5  3\n",
            "6  2\n",
            "7  8\n",
            "8  9\n",
            "9  5\n"
          ]
        }
      ]
    },
    {
      "cell_type": "code",
      "source": [
        "mean = df[0].mean()\n",
        "median = df[0].median()\n",
        "mode = df[0].mode()[0]  # pandas returns a Series of modes\n"
      ],
      "metadata": {
        "id": "vKNfsgIdSbCQ"
      },
      "execution_count": 33,
      "outputs": []
    },
    {
      "cell_type": "code",
      "source": [
        "print(\"Mean:\", mean)\n",
        "print(\"Median:\", median)\n",
        "print(\"Mode:\", mode)\n"
      ],
      "metadata": {
        "colab": {
          "base_uri": "https://localhost:8080/"
        },
        "id": "IhfwPFa_Shqo",
        "outputId": "7d3dc9b1-5492-4b04-b61d-98676ed811ba"
      },
      "execution_count": 34,
      "outputs": [
        {
          "output_type": "stream",
          "name": "stdout",
          "text": [
            "Mean: 5.8\n",
            "Median: 5.5\n",
            "Mode: 8\n"
          ]
        }
      ]
    },
    {
      "cell_type": "code",
      "source": [],
      "metadata": {
        "id": "NU6b5xw7SwUW"
      },
      "execution_count": null,
      "outputs": []
    }
  ]
}