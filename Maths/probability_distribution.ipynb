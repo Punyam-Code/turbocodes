{
  "nbformat": 4,
  "nbformat_minor": 0,
  "metadata": {
    "colab": {
      "provenance": []
    },
    "kernelspec": {
      "name": "python3",
      "display_name": "Python 3"
    },
    "language_info": {
      "name": "python"
    }
  },
  "cells": [
    {
      "cell_type": "code",
      "execution_count": null,
      "metadata": {
        "id": "6nY4p7uGcLAs"
      },
      "outputs": [],
      "source": [
        "import matplotlib.pyplot as plt\n",
        "import numpy as np\n",
        "from scipy.stats import norm, uniform, lognorm, t, chi2\n",
        "\n",
        "# Define parameters for each distribution\n",
        "mu, sigma = 0, 1  # Normal distribution\n",
        "a, b = 0, 5  # Continuous uniform distribution\n",
        "mu_log, sigma_log = 1, 0.5  # Lognormal distribution\n",
        "df_t = 5  # Student's t distribution\n",
        "df_chi2 = 3  # Chi-square distribution\n",
        "\n",
        "# Sample data points from each distribution\n",
        "x_norm = np.linspace(-5, 5, 100)\n",
        "x_uniform = np.linspace(a, b, 100)\n",
        "x_lognorm = np.linspace(0.1, 10, 100)\n",
        "x_t = np.linspace(-5, 5, 100)\n",
        "x_chi2 = np.linspace(0, 10, 100)\n",
        "\n",
        "# Calculate probability density functions (PDFs)\n",
        "pdf_norm = norm.pdf(x_norm, mu, sigma)\n",
        "pdf_uniform = uniform.pdf(x_uniform, a, b)\n",
        "pdf_lognorm = lognorm.pdf(x_lognorm, mu_log, sigma_log)\n",
        "pdf_t = t.pdf(x_t, df_t)\n",
        "pdf_chi2 = chi2.pdf(x_chi2, df_chi2)\n",
        "\n",
        "# Create the plot\n",
        "plt.figure(figsize=(10, 6))\n",
        "\n",
        "plt.plot(x_norm, pdf_norm, label='Normal', color='blue')\n",
        "# plt.plot(x_uniform, pdf_uniform, label='Continuous Uniform', color='green')\n",
        "# plt.plot(x_lognorm, pdf_lognorm, label='Lognormal', color='red')\n",
        "# plt.plot(x_t, pdf_t, label='Student\\'s t', color='purple')\n",
        "# plt.plot(x_chi2, pdf_chi2, label='Chi-square', color='orange')\n",
        "\n",
        "plt.xlabel('x')\n",
        "plt.ylabel('Probability Density')\n",
        "plt.title('Probability Distributions')\n",
        "plt.legend()\n",
        "\n",
        "plt.grid(True)\n",
        "plt.show()\n",
        "\n"
      ]
    },
    {
      "cell_type": "code",
      "source": [
        "import matplotlib.pyplot as plt\n",
        "import numpy as np\n",
        "from scipy.stats import binom, poisson, bernoulli\n",
        "\n",
        "# Define parameters for discrete distributions\n",
        "n, p = 10, 0.5  # Binomial distribution (trials, success probability)\n",
        "lambda_poisson = 3  # Poisson distribution (average occurrences)\n",
        "p_bernoulli = 0.7  # Bernoulli distribution (success probability)\n",
        "\n",
        "# Sample values for each distribution\n",
        "outcomes_binom = np.arange(n + 1)\n",
        "outcomes_poisson = np.arange(lambda_poisson * 2)\n",
        "outcomes_bernoulli = np.array([0, 1])  # 0 for failure, 1 for success\n",
        "\n",
        "# Calculate probability mass functions (PMFs)\n",
        "pmf_binom = binom.pmf(outcomes_binom, n, p)\n",
        "pmf_poisson = poisson.pmf(outcomes_poisson, lambda_poisson)\n",
        "pmf_bernoulli = bernoulli.pmf(outcomes_bernoulli, p_bernoulli)\n",
        "\n",
        "# Create the plot\n",
        "plt.figure(figsize=(10, 6))\n",
        "\n",
        "plt.bar(outcomes_binom, pmf_binom, label='Binomial', color='blue')\n",
        "plt.bar(outcomes_poisson, pmf_poisson, label='Poisson', color='green')\n",
        "plt.bar(outcomes_bernoulli, pmf_bernoulli, label='Bernoulli', color='red')\n",
        "\n",
        "plt.xlabel('Outcome')\n",
        "plt.ylabel('Probability Mass')\n",
        "plt.title('Discrete Probability Distributions')\n",
        "plt.legend()\n",
        "\n",
        "plt.grid(True)\n",
        "plt.show()\n",
        "\n"
      ],
      "metadata": {
        "id": "LHuIOqapcyZe"
      },
      "execution_count": null,
      "outputs": []
    },
    {
      "cell_type": "code",
      "source": [
        "n, p = 10, 0.5\n",
        "outcomes_binom = np.arange(n + 1)\n",
        "pmf_binom = binom.pmf(outcomes_binom, n, p)\n",
        "plt.figure(figsize=(10, 6))\n",
        "\n",
        "plt.bar(outcomes_binom, pmf_binom, label='Binomial', color='blue')\n",
        "plt.xlabel('Outcome')\n",
        "plt.ylabel('Probability Mass')\n",
        "plt.title('Discrete Probability Distributions')\n",
        "plt.legend()\n",
        "\n",
        "plt.grid(True)\n",
        "plt.show()"
      ],
      "metadata": {
        "id": "ugLbIagRJbQA"
      },
      "execution_count": null,
      "outputs": []
    },
    {
      "cell_type": "code",
      "source": [
        "import matplotlib.pyplot as plt\n",
        "import numpy as np\n",
        "from scipy.stats import geom\n",
        "\n",
        "# Define parameters for geometric\n",
        "p = 0.3  # Geometric distribution (success probability)\n",
        "\n",
        "# Sample values for each distribution\n",
        "outcomes_geom = np.arange(1, 20)\n",
        "\n",
        "# Calculate probability mass functions (PMFs)\n",
        "pmf_geom = geom.pmf(outcomes_geom, p)\n",
        "\n",
        "\n",
        "# Create the plot\n",
        "plt.figure(figsize=(10, 6))\n",
        "\n",
        "plt.bar(outcomes_geom, pmf_geom, label='Geometric', color='blue')\n",
        "\n",
        "\n",
        "plt.xlabel('Outcome')\n",
        "plt.ylabel('Probability Mass')\n",
        "plt.title('Discrete Probability Distributions (Geometric)')\n",
        "plt.legend()\n",
        "\n",
        "plt.grid(True)\n",
        "plt.show()\n",
        "\n"
      ],
      "metadata": {
        "id": "GLJD5t1QLaNw"
      },
      "execution_count": null,
      "outputs": []
    },
    {
      "cell_type": "code",
      "source": [],
      "metadata": {
        "id": "5lNrwT2pNPui"
      },
      "execution_count": null,
      "outputs": []
    },
    {
      "cell_type": "code",
      "source": [],
      "metadata": {
        "id": "q24SP9kkSdIU"
      },
      "execution_count": null,
      "outputs": []
    }
  ]
}